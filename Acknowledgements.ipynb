{
 "cells": [
  {
   "cell_type": "markdown",
   "metadata": {
    "slideshow": {
     "slide_type": "slide"
    }
   },
   "source": [
    "#Take home\n",
    "\n",
    "  * `flotilla` can make your job easier, please try it.\n",
    "  \n",
    "    github.com/YeoLab/flotilla"
   ]
  },
  {
   "cell_type": "markdown",
   "metadata": {
    "slideshow": {
     "slide_type": "slide"
    }
   },
   "source": [
    "<img src=\"http://imgur.com/YCDZhnl.png\"/ width=100%>\n",
    "\n",
    "## Acknowledgements\n",
    "\n",
    " * **Gene Yeo** and the Yeo Lab, especially:\n",
    "    * **Olga Botvinnik**\n",
    "    * **Yan Song**\n",
    "    * Boyko Kakaradov\n",
    "    * Patrick Liu\n",
    "    * Leen Jamal\n",
    "    * Gabriel Pratt\n",
    "    * Fernandno Martinez\n",
    "    \n",
    " * **Katlin Massirer**, in whose lab I am now a post-doc at University of Campinas, Brazil\n"
   ]
  },
  {
   "cell_type": "code",
   "execution_count": 1,
   "metadata": {
    "collapsed": false,
    "slideshow": {
     "slide_type": "skip"
    }
   },
   "outputs": [
    {
     "data": {
      "text/html": [
       "<link rel=\"stylesheet\" href=\"http://bootswatch.com/paper/bootstrap.css\">"
      ],
      "text/plain": [
       "<IPython.core.display.HTML at 0x101e70990>"
      ]
     },
     "metadata": {},
     "output_type": "display_data"
    },
    {
     "data": {
      "text/html": [
       "<style>.rendered_html {    font-size: 130%;}</style>"
      ],
      "text/plain": [
       "<IPython.core.display.HTML at 0x101e70a50>"
      ]
     },
     "metadata": {},
     "output_type": "display_data"
    }
   ],
   "source": [
    "import css_styling"
   ]
  }
 ],
 "metadata": {
  "kernelspec": {
   "display_name": "Python 3",
   "name": "python3"
  },
  "language_info": {
   "codemirror_mode": {
    "name": "ipython",
    "version": 3
   },
   "file_extension": ".py",
   "mimetype": "text/x-python",
   "name": "python",
   "nbconvert_exporter": "python",
   "pygments_lexer": "ipython3",
   "version": "3.4.0"
  }
 },
 "nbformat": 4,
 "nbformat_minor": 0
}