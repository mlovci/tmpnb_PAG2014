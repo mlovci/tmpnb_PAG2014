{
 "metadata": {
  "name": "",
  "signature": "sha256:0ac09d834ea54dca3997a1dd9807ccee78f01082e7fbc001792818a8f1ccf062"
 },
 "nbformat": 3,
 "nbformat_minor": 0,
 "worksheets": [
  {
   "cells": [
    {
     "cell_type": "markdown",
     "metadata": {
      "slideshow": {
       "slide_type": "slide"
      }
     },
     "source": [
      "#Take home\n",
      "\n",
      "  * `flotilla` can make your job easier, please try it.\n",
      "  \n",
      "    github.com/YeoLab/flotilla"
     ]
    },
    {
     "cell_type": "markdown",
     "metadata": {
      "slideshow": {
       "slide_type": "slide"
      }
     },
     "source": [
      "<img src=\"http://imgur.com/YCDZhnl.png\"/>\n",
      "\n",
      "\n",
      "## Acknowledgements\n",
      "\n",
      " * **Gene Yeo** and the Yeo Lab, especially:\n",
      "    * **Olga Botvinnik**\n",
      "    * **Yan Song**\n",
      "    * Boyko Kakaradov\n",
      "    * Patrick Liu\n",
      "    * Leen Jamal\n",
      "    * Gabriel Pratt\n",
      "    * Fernandno Martinez\n",
      "    \n",
      " * **Katlin Massirer** (in whose lab I am now a post-doc at University of Campinas, Brazil)\n"
     ]
    },
    {
     "cell_type": "code",
     "collapsed": false,
     "input": [
      "import css_styling"
     ],
     "language": "python",
     "metadata": {
      "slideshow": {
       "slide_type": "skip"
      }
     },
     "outputs": [
      {
       "html": [
        "<link rel=\"stylesheet\" href=\"http://bootswatch.com/paper/bootstrap.css\">"
       ],
       "metadata": {},
       "output_type": "display_data",
       "text": [
        "<IPython.core.display.HTML at 0x101e70990>"
       ]
      },
      {
       "html": [
        "<style>.rendered_html {    font-size: 130%;}</style>"
       ],
       "metadata": {},
       "output_type": "display_data",
       "text": [
        "<IPython.core.display.HTML at 0x101e70a50>"
       ]
      }
     ],
     "prompt_number": 1
    }
   ],
   "metadata": {}
  }
 ]
}