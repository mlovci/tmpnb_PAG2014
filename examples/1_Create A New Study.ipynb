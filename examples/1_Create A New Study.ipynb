{
 "metadata": {
  "celltoolbar": "Slideshow",
  "name": "",
  "signature": "sha256:caa57cb2173c19b1da619868a3d1856c286d27a1f0035adbbe64cb81b4e162a3"
 },
 "nbformat": 3,
 "nbformat_minor": 0,
 "worksheets": [
  {
   "cells": [
    {
     "cell_type": "markdown",
     "metadata": {
      "slideshow": {
       "slide_type": "slide"
      }
     },
     "source": [
      "#Make a new `flotilla.Study`\n",
      "<br>\n",
      "`flotilla.Study` objects are the main \"user-interface\" for `flotilla` data and features\n",
      "<br>\n"
     ]
    },
    {
     "cell_type": "code",
     "collapsed": false,
     "input": [
      "import css_styling"
     ],
     "language": "python",
     "metadata": {
      "slideshow": {
       "slide_type": "skip"
      }
     },
     "outputs": [
      {
       "html": [
        "<link rel=\"stylesheet\" href=\"http://bootswatch.com/paper/bootstrap.css\">"
       ],
       "metadata": {},
       "output_type": "display_data",
       "text": [
        "<IPython.core.display.HTML at 0x102585f10>"
       ]
      },
      {
       "html": [
        "<style>.rendered_html {    font-size: 150%;}</style>"
       ],
       "metadata": {},
       "output_type": "display_data",
       "text": [
        "<IPython.core.display.HTML at 0x102585fd0>"
       ]
      }
     ],
     "prompt_number": 1
    },
    {
     "cell_type": "markdown",
     "metadata": {
      "slideshow": {
       "slide_type": "slide"
      }
     },
     "source": [
      "##Requirements for this demonstration.\n",
      "<br>\n",
      "  * Hardware<br><br>\n",
      "    * Lots of RAM (sorry, working on this)\n",
      "  <br>\n",
      "  <br>\n",
      "  <br>  \n",
      "  * Metrics<br><br>\n",
      "  \n",
      "    * Mapping statistics data table<br>\n",
      "   Combined output from aligner, quantifying number of reads mapped in each sample\n",
      "    <br>\n",
      "    <br>\n",
      "    * Expression data table<br>\n",
      "    [Gencode](http://www.gencodegenes.org/) gene IDs\n",
      "    <br>\n",
      "    <br>\n",
      "    * Splicing data table<br>[MISO](http://miso.readthedocs.org/) qunatification and ids\n",
      "  <br>\n",
      "  <br>\n",
      "  <br>\n",
      "  * User-defined items in metadata (will create these).\n",
      "    <br>\n",
      "    <br>\n",
      "    * Sample Colors\n",
      "    <br>\n",
      "    <br>\n",
      "    * Pooled samples vs single cells labels\n",
      "    <br>\n",
      "    <br>\n",
      "    * A _phenotype_ attribute.    "
     ]
    },
    {
     "cell_type": "markdown",
     "metadata": {
      "slideshow": {
       "slide_type": "notes"
      }
     },
     "source": [
      "We assume you already have a pipeline in place to analyze and quantify data. If you don't the pipeline is available on the `docker` image. While it is possible to create custom species, that is left for another notebook. Here we assume you have human (hg19/GRCh37) or mouse (mm10/GRCm38) data. "
     ]
    },
    {
     "cell_type": "markdown",
     "metadata": {
      "slideshow": {
       "slide_type": "slide"
      }
     },
     "source": [
      "##Our data\n",
      "<H2 align='center'>_In vitro_ directed differentiation of fibroblasts with a sequenced genome.</H2>\n",
      "<br>\n",
      "<H4><div align='right'><font color=#0066CC> P cells (P) </font> <br>\n",
      "<font color=#29A329> N cells (N) </font><br>\n",
      "<font color=#CC0000> M cells (M) </font><br>\n",
      "<font color=#FF9900> S cells (S) <br> </font></div></H4>"
     ]
    },
    {
     "cell_type": "markdown",
     "metadata": {
      "slideshow": {
       "slide_type": "subslide"
      }
     },
     "source": [
      "<img src=\"img/differentiation.png\" width=100%>"
     ]
    },
    {
     "cell_type": "markdown",
     "metadata": {
      "slideshow": {
       "slide_type": "slide"
      }
     },
     "source": [
      "##Study Setup\n",
      "<H3 align='center'>Import and Save Data</H3>\n",
      "<br>\n",
      "<div align='right'>Use `pandas` package to manipulate on-disk files.<br>Save the data into a `flotilla` 'datapackage.'</div>"
     ]
    },
    {
     "cell_type": "code",
     "collapsed": false,
     "input": [
      "import flotilla #automatically calls %matplotlib inline\n",
      "import pandas\n",
      "import os\n",
      "from time import time\n",
      "import numpy as np\n"
     ],
     "language": "python",
     "metadata": {
      "slideshow": {
       "slide_type": "fragment"
      }
     },
     "outputs": [],
     "prompt_number": 2
    },
    {
     "cell_type": "code",
     "collapsed": false,
     "input": [
      "start_time = time()"
     ],
     "language": "python",
     "metadata": {
      "slideshow": {
       "slide_type": "skip"
      }
     },
     "outputs": [],
     "prompt_number": 3
    },
    {
     "cell_type": "markdown",
     "metadata": {
      "slideshow": {
       "slide_type": "slide"
      }
     },
     "source": [
      "<div align='left'><H2>Technical data</H2></div>\n",
      "<H3 align='center'>Mapping statistics.</H3>\n",
      "<br>\n",
      "<div align='right'>Output of [RNA-STAR](https://code.google.com/p/rna-star/) genome aligner.</div>"
     ]
    },
    {
     "cell_type": "code",
     "collapsed": false,
     "input": [
      "a = time()"
     ],
     "language": "python",
     "metadata": {
      "slideshow": {
       "slide_type": "skip"
      }
     },
     "outputs": [],
     "prompt_number": 4
    },
    {
     "cell_type": "code",
     "collapsed": false,
     "input": [
      "mapstats_data_file = \"data/mapping_stats.tsv\"\n",
      "mapstats_data = pandas.read_table(mapstats_data_file, index_col=0)\n",
      "print \"Loaded data table, size is (samples, genes):\", mapstats_data.shape"
     ],
     "language": "python",
     "metadata": {
      "slideshow": {
       "slide_type": "fragment"
      }
     },
     "outputs": [
      {
       "output_type": "stream",
       "stream": "stdout",
       "text": [
        "Loaded data table, size is (samples, genes): (256, 32)\n"
       ]
      }
     ],
     "prompt_number": 5
    },
    {
     "cell_type": "code",
     "collapsed": false,
     "input": [
      "b = time()\n",
      "\n",
      "print \"This operation took {:.5f} seconds.\".format(b - a)"
     ],
     "language": "python",
     "metadata": {
      "slideshow": {
       "slide_type": "skip"
      }
     },
     "outputs": [
      {
       "output_type": "stream",
       "stream": "stdout",
       "text": [
        "This operation took 0.05655 seconds.\n"
       ]
      }
     ],
     "prompt_number": 6
    },
    {
     "cell_type": "code",
     "collapsed": false,
     "input": [
      "mapstats_data.head()"
     ],
     "language": "python",
     "metadata": {
      "slideshow": {
       "slide_type": "fragment"
      }
     },
     "outputs": [
      {
       "html": [
        "<div style=\"max-height:1000px;max-width:1500px;overflow:auto;\">\n",
        "<table border=\"1\" class=\"dataframe\">\n",
        "  <thead>\n",
        "    <tr style=\"text-align: right;\">\n",
        "      <th></th>\n",
        "      <th>Started job on</th>\n",
        "      <th>Started mapping on</th>\n",
        "      <th>Finished on</th>\n",
        "      <th>Mapping speed, Million of reads per hour</th>\n",
        "      <th>Number of input reads</th>\n",
        "      <th>Average input read length</th>\n",
        "      <th>Uniquely mapped reads number</th>\n",
        "      <th>Uniquely mapped reads %</th>\n",
        "      <th>Average mapped length</th>\n",
        "      <th>Number of splices: Total</th>\n",
        "      <th>Number of splices: Annotated (sjdb)</th>\n",
        "      <th>Number of splices: GT/AG</th>\n",
        "      <th>Number of splices: GC/AG</th>\n",
        "      <th>Number of splices: AT/AC</th>\n",
        "      <th>Number of splices: Non-canonical</th>\n",
        "      <th>Mismatch rate per base, %</th>\n",
        "      <th>Deletion rate per base</th>\n",
        "      <th>Deletion average length</th>\n",
        "      <th>Insertion rate per base</th>\n",
        "      <th>Insertion average length</th>\n",
        "      <th></th>\n",
        "    </tr>\n",
        "  </thead>\n",
        "  <tbody>\n",
        "    <tr>\n",
        "      <th>M_M1_01</th>\n",
        "      <td> Apr 29 19:58:18</td>\n",
        "      <td> Apr 29 19:58:40</td>\n",
        "      <td> Apr 29 20:01:22</td>\n",
        "      <td> 274.58</td>\n",
        "      <td> 12356210</td>\n",
        "      <td> 184</td>\n",
        "      <td> 10684874</td>\n",
        "      <td> 86.47</td>\n",
        "      <td> 181.36</td>\n",
        "      <td> 4629200</td>\n",
        "      <td> 4559773</td>\n",
        "      <td> 4594566</td>\n",
        "      <td> 23888</td>\n",
        "      <td> 5051</td>\n",
        "      <td> 5695</td>\n",
        "      <td> 0.37</td>\n",
        "      <td> 0.01</td>\n",
        "      <td> 1.57</td>\n",
        "      <td> 0.01</td>\n",
        "      <td> 1.43</td>\n",
        "      <td>...</td>\n",
        "    </tr>\n",
        "    <tr>\n",
        "      <th>M_M1_02</th>\n",
        "      <td> Apr 29 17:59:28</td>\n",
        "      <td> Apr 29 18:01:21</td>\n",
        "      <td> Apr 29 18:19:15</td>\n",
        "      <td>  41.62</td>\n",
        "      <td> 12416854</td>\n",
        "      <td> 184</td>\n",
        "      <td> 11235549</td>\n",
        "      <td> 90.49</td>\n",
        "      <td> 181.70</td>\n",
        "      <td> 2706035</td>\n",
        "      <td> 2656128</td>\n",
        "      <td> 2679768</td>\n",
        "      <td> 20734</td>\n",
        "      <td> 2084</td>\n",
        "      <td> 3449</td>\n",
        "      <td> 0.38</td>\n",
        "      <td> 0.01</td>\n",
        "      <td> 1.59</td>\n",
        "      <td> 0.01</td>\n",
        "      <td> 1.44</td>\n",
        "      <td>...</td>\n",
        "    </tr>\n",
        "    <tr>\n",
        "      <th>M_M1_03</th>\n",
        "      <td> Apr 29 19:35:13</td>\n",
        "      <td> Apr 29 19:35:39</td>\n",
        "      <td> Apr 29 19:39:41</td>\n",
        "      <td> 294.61</td>\n",
        "      <td> 19804563</td>\n",
        "      <td> 184</td>\n",
        "      <td> 17584862</td>\n",
        "      <td> 88.79</td>\n",
        "      <td> 181.38</td>\n",
        "      <td> 8496381</td>\n",
        "      <td> 8409406</td>\n",
        "      <td> 8422815</td>\n",
        "      <td> 53739</td>\n",
        "      <td> 9947</td>\n",
        "      <td> 9880</td>\n",
        "      <td> 0.38</td>\n",
        "      <td> 0.01</td>\n",
        "      <td> 1.55</td>\n",
        "      <td> 0.01</td>\n",
        "      <td> 1.50</td>\n",
        "      <td>...</td>\n",
        "    </tr>\n",
        "    <tr>\n",
        "      <th>M_M1_04</th>\n",
        "      <td> Apr 29 18:30:05</td>\n",
        "      <td> Apr 29 18:30:31</td>\n",
        "      <td> Apr 29 18:32:29</td>\n",
        "      <td> 263.10</td>\n",
        "      <td>  8623786</td>\n",
        "      <td> 184</td>\n",
        "      <td>  7599917</td>\n",
        "      <td> 88.13</td>\n",
        "      <td> 181.29</td>\n",
        "      <td> 4547233</td>\n",
        "      <td> 4501975</td>\n",
        "      <td> 4503758</td>\n",
        "      <td> 32611</td>\n",
        "      <td> 4811</td>\n",
        "      <td> 6053</td>\n",
        "      <td> 0.36</td>\n",
        "      <td> 0.01</td>\n",
        "      <td> 1.54</td>\n",
        "      <td> 0.01</td>\n",
        "      <td> 1.46</td>\n",
        "      <td>...</td>\n",
        "    </tr>\n",
        "    <tr>\n",
        "      <th>M_M1_05</th>\n",
        "      <td> Apr 29 19:19:31</td>\n",
        "      <td> Apr 29 19:19:53</td>\n",
        "      <td> Apr 29 19:22:28</td>\n",
        "      <td> 267.28</td>\n",
        "      <td> 11507835</td>\n",
        "      <td> 184</td>\n",
        "      <td>  9726225</td>\n",
        "      <td> 84.52</td>\n",
        "      <td> 181.33</td>\n",
        "      <td> 3429570</td>\n",
        "      <td> 3371387</td>\n",
        "      <td> 3391403</td>\n",
        "      <td> 30907</td>\n",
        "      <td> 4029</td>\n",
        "      <td> 3231</td>\n",
        "      <td> 0.37</td>\n",
        "      <td> 0.01</td>\n",
        "      <td> 1.55</td>\n",
        "      <td> 0.01</td>\n",
        "      <td> 1.42</td>\n",
        "      <td>...</td>\n",
        "    </tr>\n",
        "  </tbody>\n",
        "</table>\n",
        "<p>5 rows \u00d7 32 columns</p>\n",
        "</div>"
       ],
       "metadata": {},
       "output_type": "pyout",
       "prompt_number": 7,
       "text": [
        "          Started job on Started mapping on      Finished on  \\\n",
        "M_M1_01  Apr 29 19:58:18    Apr 29 19:58:40  Apr 29 20:01:22   \n",
        "M_M1_02  Apr 29 17:59:28    Apr 29 18:01:21  Apr 29 18:19:15   \n",
        "M_M1_03  Apr 29 19:35:13    Apr 29 19:35:39  Apr 29 19:39:41   \n",
        "M_M1_04  Apr 29 18:30:05    Apr 29 18:30:31  Apr 29 18:32:29   \n",
        "M_M1_05  Apr 29 19:19:31    Apr 29 19:19:53  Apr 29 19:22:28   \n",
        "\n",
        "         Mapping speed, Million of reads per hour  Number of input reads  \\\n",
        "M_M1_01                                    274.58               12356210   \n",
        "M_M1_02                                     41.62               12416854   \n",
        "M_M1_03                                    294.61               19804563   \n",
        "M_M1_04                                    263.10                8623786   \n",
        "M_M1_05                                    267.28               11507835   \n",
        "\n",
        "         Average input read length  Uniquely mapped reads number  \\\n",
        "M_M1_01                        184                      10684874   \n",
        "M_M1_02                        184                      11235549   \n",
        "M_M1_03                        184                      17584862   \n",
        "M_M1_04                        184                       7599917   \n",
        "M_M1_05                        184                       9726225   \n",
        "\n",
        "         Uniquely mapped reads %  Average mapped length  \\\n",
        "M_M1_01                    86.47                 181.36   \n",
        "M_M1_02                    90.49                 181.70   \n",
        "M_M1_03                    88.79                 181.38   \n",
        "M_M1_04                    88.13                 181.29   \n",
        "M_M1_05                    84.52                 181.33   \n",
        "\n",
        "         Number of splices: Total  Number of splices: Annotated (sjdb)  \\\n",
        "M_M1_01                   4629200                              4559773   \n",
        "M_M1_02                   2706035                              2656128   \n",
        "M_M1_03                   8496381                              8409406   \n",
        "M_M1_04                   4547233                              4501975   \n",
        "M_M1_05                   3429570                              3371387   \n",
        "\n",
        "         Number of splices: GT/AG  Number of splices: GC/AG  \\\n",
        "M_M1_01                   4594566                     23888   \n",
        "M_M1_02                   2679768                     20734   \n",
        "M_M1_03                   8422815                     53739   \n",
        "M_M1_04                   4503758                     32611   \n",
        "M_M1_05                   3391403                     30907   \n",
        "\n",
        "         Number of splices: AT/AC  Number of splices: Non-canonical  \\\n",
        "M_M1_01                      5051                              5695   \n",
        "M_M1_02                      2084                              3449   \n",
        "M_M1_03                      9947                              9880   \n",
        "M_M1_04                      4811                              6053   \n",
        "M_M1_05                      4029                              3231   \n",
        "\n",
        "         Mismatch rate per base, %  Deletion rate per base  \\\n",
        "M_M1_01                       0.37                    0.01   \n",
        "M_M1_02                       0.38                    0.01   \n",
        "M_M1_03                       0.38                    0.01   \n",
        "M_M1_04                       0.36                    0.01   \n",
        "M_M1_05                       0.37                    0.01   \n",
        "\n",
        "         Deletion average length  Insertion rate per base  \\\n",
        "M_M1_01                     1.57                     0.01   \n",
        "M_M1_02                     1.59                     0.01   \n",
        "M_M1_03                     1.55                     0.01   \n",
        "M_M1_04                     1.54                     0.01   \n",
        "M_M1_05                     1.55                     0.01   \n",
        "\n",
        "         Insertion average length      \n",
        "M_M1_01                      1.43 ...  \n",
        "M_M1_02                      1.44 ...  \n",
        "M_M1_03                      1.50 ...  \n",
        "M_M1_04                      1.46 ...  \n",
        "M_M1_05                      1.42 ...  \n",
        "\n",
        "[5 rows x 32 columns]"
       ]
      }
     ],
     "prompt_number": 7
    },
    {
     "cell_type": "markdown",
     "metadata": {
      "slideshow": {
       "slide_type": "slide"
      }
     },
     "source": [
      "##Expression Data\n",
      "\n",
      "<H3><div align='center'>TPM - Transcripts-per-million.</div></H3>\n",
      "<div align='right'>\n",
      "Quantified with <a href='http://www.cs.cmu.edu/~ckingsf/software/sailfish/'>Sailfish</a>\n",
      "</div>"
     ]
    },
    {
     "cell_type": "code",
     "collapsed": false,
     "input": [
      "a = time()"
     ],
     "language": "python",
     "metadata": {
      "slideshow": {
       "slide_type": "skip"
      }
     },
     "outputs": [],
     "prompt_number": 8
    },
    {
     "cell_type": "code",
     "collapsed": false,
     "input": [
      "expression_data_file = \"data/tpm.tsv\"\n",
      "expression_data = pandas.read_table(expression_data_file, index_col=0)\n",
      "print \"Loaded data table, size is (samples, genes):\", expression_data.shape"
     ],
     "language": "python",
     "metadata": {
      "slideshow": {
       "slide_type": "fragment"
      }
     },
     "outputs": [
      {
       "output_type": "stream",
       "stream": "stdout",
       "text": [
        "Loaded data table, size is (samples, genes): (258, 34609)\n"
       ]
      }
     ],
     "prompt_number": 9
    },
    {
     "cell_type": "code",
     "collapsed": false,
     "input": [
      "b = time()\n",
      "\n",
      "print \"This operation took {:.1f} seconds.\".format(b - a)"
     ],
     "language": "python",
     "metadata": {
      "slideshow": {
       "slide_type": "skip"
      }
     },
     "outputs": [
      {
       "output_type": "stream",
       "stream": "stdout",
       "text": [
        "This operation took 11.1 seconds.\n"
       ]
      }
     ],
     "prompt_number": 10
    },
    {
     "cell_type": "code",
     "collapsed": false,
     "input": [
      "expression_data.head()"
     ],
     "language": "python",
     "metadata": {
      "slideshow": {
       "slide_type": "fragment"
      }
     },
     "outputs": [
      {
       "html": [
        "<div style=\"max-height:1000px;max-width:1500px;overflow:auto;\">\n",
        "<table border=\"1\" class=\"dataframe\">\n",
        "  <thead>\n",
        "    <tr style=\"text-align: right;\">\n",
        "      <th></th>\n",
        "      <th>ENSG00000000003</th>\n",
        "      <th>ENSG00000000005</th>\n",
        "      <th>ENSG00000000419</th>\n",
        "      <th>ENSG00000000457</th>\n",
        "      <th>ENSG00000000460</th>\n",
        "      <th>ENSG00000000938</th>\n",
        "      <th>ENSG00000000971</th>\n",
        "      <th>ENSG00000001036</th>\n",
        "      <th>ENSG00000001084</th>\n",
        "      <th>ENSG00000001167</th>\n",
        "      <th>ENSG00000001460</th>\n",
        "      <th>ENSG00000001461</th>\n",
        "      <th>ENSG00000001497</th>\n",
        "      <th>ENSG00000001561</th>\n",
        "      <th>ENSG00000001617</th>\n",
        "      <th>ENSG00000001626</th>\n",
        "      <th>ENSG00000001629</th>\n",
        "      <th>ENSG00000001630</th>\n",
        "      <th>ENSG00000001631</th>\n",
        "      <th>ENSG00000002016</th>\n",
        "      <th></th>\n",
        "    </tr>\n",
        "    <tr>\n",
        "      <th>sample_id</th>\n",
        "      <th></th>\n",
        "      <th></th>\n",
        "      <th></th>\n",
        "      <th></th>\n",
        "      <th></th>\n",
        "      <th></th>\n",
        "      <th></th>\n",
        "      <th></th>\n",
        "      <th></th>\n",
        "      <th></th>\n",
        "      <th></th>\n",
        "      <th></th>\n",
        "      <th></th>\n",
        "      <th></th>\n",
        "      <th></th>\n",
        "      <th></th>\n",
        "      <th></th>\n",
        "      <th></th>\n",
        "      <th></th>\n",
        "      <th></th>\n",
        "    </tr>\n",
        "  </thead>\n",
        "  <tbody>\n",
        "    <tr>\n",
        "      <th>N_CVN_01</th>\n",
        "      <td> 7.035842</td>\n",
        "      <td> 0</td>\n",
        "      <td> 0</td>\n",
        "      <td> 0.257396</td>\n",
        "      <td> 0.000000</td>\n",
        "      <td> 0</td>\n",
        "      <td> 0.000000</td>\n",
        "      <td> 0</td>\n",
        "      <td> 0</td>\n",
        "      <td> 0.00000</td>\n",
        "      <td> 0</td>\n",
        "      <td> 0</td>\n",
        "      <td> 0.599996</td>\n",
        "      <td> 1.918966</td>\n",
        "      <td> 5.483087</td>\n",
        "      <td> 0.000000</td>\n",
        "      <td> 0</td>\n",
        "      <td> 0.000000</td>\n",
        "      <td> 10.489015</td>\n",
        "      <td> 0</td>\n",
        "      <td>...</td>\n",
        "    </tr>\n",
        "    <tr>\n",
        "      <th>N_CVN_02</th>\n",
        "      <td> 0.360025</td>\n",
        "      <td> 0</td>\n",
        "      <td> 0</td>\n",
        "      <td> 5.060763</td>\n",
        "      <td> 2.985242</td>\n",
        "      <td> 0</td>\n",
        "      <td> 0.000000</td>\n",
        "      <td> 0</td>\n",
        "      <td> 0</td>\n",
        "      <td> 0.00000</td>\n",
        "      <td> 0</td>\n",
        "      <td> 0</td>\n",
        "      <td> 6.770274</td>\n",
        "      <td> 5.731577</td>\n",
        "      <td> 2.172771</td>\n",
        "      <td> 0.689135</td>\n",
        "      <td> 0</td>\n",
        "      <td> 0.000000</td>\n",
        "      <td> 11.501121</td>\n",
        "      <td> 0</td>\n",
        "      <td>...</td>\n",
        "    </tr>\n",
        "    <tr>\n",
        "      <th>N_CVN_03</th>\n",
        "      <td> 8.344904</td>\n",
        "      <td> 0</td>\n",
        "      <td> 0</td>\n",
        "      <td> 8.807094</td>\n",
        "      <td> 2.891814</td>\n",
        "      <td> 0</td>\n",
        "      <td> 0.000000</td>\n",
        "      <td> 0</td>\n",
        "      <td> 0</td>\n",
        "      <td> 0.00000</td>\n",
        "      <td> 0</td>\n",
        "      <td> 0</td>\n",
        "      <td> 0.542938</td>\n",
        "      <td> 1.594176</td>\n",
        "      <td> 0.977475</td>\n",
        "      <td> 0.000000</td>\n",
        "      <td> 0</td>\n",
        "      <td> 0.000000</td>\n",
        "      <td> 11.673159</td>\n",
        "      <td> 0</td>\n",
        "      <td>...</td>\n",
        "    </tr>\n",
        "    <tr>\n",
        "      <th>N_CVN_04</th>\n",
        "      <td> 7.369145</td>\n",
        "      <td> 0</td>\n",
        "      <td> 0</td>\n",
        "      <td> 5.023515</td>\n",
        "      <td> 0.000000</td>\n",
        "      <td> 0</td>\n",
        "      <td> 0.000000</td>\n",
        "      <td> 0</td>\n",
        "      <td> 0</td>\n",
        "      <td> 0.00000</td>\n",
        "      <td> 0</td>\n",
        "      <td> 0</td>\n",
        "      <td> 0.796629</td>\n",
        "      <td> 2.917898</td>\n",
        "      <td> 1.322353</td>\n",
        "      <td> 0.000000</td>\n",
        "      <td> 0</td>\n",
        "      <td> 0.000000</td>\n",
        "      <td> 11.365814</td>\n",
        "      <td> 0</td>\n",
        "      <td>...</td>\n",
        "    </tr>\n",
        "    <tr>\n",
        "      <th>N_CVN_05</th>\n",
        "      <td> 5.523840</td>\n",
        "      <td> 0</td>\n",
        "      <td> 0</td>\n",
        "      <td> 5.904447</td>\n",
        "      <td> 0.000000</td>\n",
        "      <td> 0</td>\n",
        "      <td> 3.476259</td>\n",
        "      <td> 0</td>\n",
        "      <td> 0</td>\n",
        "      <td> 0.79441</td>\n",
        "      <td> 0</td>\n",
        "      <td> 0</td>\n",
        "      <td> 6.367334</td>\n",
        "      <td> 0.161469</td>\n",
        "      <td> 2.248476</td>\n",
        "      <td> 0.311719</td>\n",
        "      <td> 0</td>\n",
        "      <td> 0.136426</td>\n",
        "      <td> 10.198212</td>\n",
        "      <td> 0</td>\n",
        "      <td>...</td>\n",
        "    </tr>\n",
        "  </tbody>\n",
        "</table>\n",
        "<p>5 rows \u00d7 34609 columns</p>\n",
        "</div>"
       ],
       "metadata": {},
       "output_type": "pyout",
       "prompt_number": 11,
       "text": [
        "           ENSG00000000003  ENSG00000000005  ENSG00000000419  ENSG00000000457  \\\n",
        "sample_id                                                                       \n",
        "N_CVN_01          7.035842                0                0         0.257396   \n",
        "N_CVN_02          0.360025                0                0         5.060763   \n",
        "N_CVN_03          8.344904                0                0         8.807094   \n",
        "N_CVN_04          7.369145                0                0         5.023515   \n",
        "N_CVN_05          5.523840                0                0         5.904447   \n",
        "\n",
        "           ENSG00000000460  ENSG00000000938  ENSG00000000971  ENSG00000001036  \\\n",
        "sample_id                                                                       \n",
        "N_CVN_01          0.000000                0         0.000000                0   \n",
        "N_CVN_02          2.985242                0         0.000000                0   \n",
        "N_CVN_03          2.891814                0         0.000000                0   \n",
        "N_CVN_04          0.000000                0         0.000000                0   \n",
        "N_CVN_05          0.000000                0         3.476259                0   \n",
        "\n",
        "           ENSG00000001084  ENSG00000001167  ENSG00000001460  ENSG00000001461  \\\n",
        "sample_id                                                                       \n",
        "N_CVN_01                 0          0.00000                0                0   \n",
        "N_CVN_02                 0          0.00000                0                0   \n",
        "N_CVN_03                 0          0.00000                0                0   \n",
        "N_CVN_04                 0          0.00000                0                0   \n",
        "N_CVN_05                 0          0.79441                0                0   \n",
        "\n",
        "           ENSG00000001497  ENSG00000001561  ENSG00000001617  ENSG00000001626  \\\n",
        "sample_id                                                                       \n",
        "N_CVN_01          0.599996         1.918966         5.483087         0.000000   \n",
        "N_CVN_02          6.770274         5.731577         2.172771         0.689135   \n",
        "N_CVN_03          0.542938         1.594176         0.977475         0.000000   \n",
        "N_CVN_04          0.796629         2.917898         1.322353         0.000000   \n",
        "N_CVN_05          6.367334         0.161469         2.248476         0.311719   \n",
        "\n",
        "           ENSG00000001629  ENSG00000001630  ENSG00000001631  ENSG00000002016  \\\n",
        "sample_id                                                                       \n",
        "N_CVN_01                 0         0.000000        10.489015                0   \n",
        "N_CVN_02                 0         0.000000        11.501121                0   \n",
        "N_CVN_03                 0         0.000000        11.673159                0   \n",
        "N_CVN_04                 0         0.000000        11.365814                0   \n",
        "N_CVN_05                 0         0.136426        10.198212                0   \n",
        "\n",
        "               \n",
        "sample_id      \n",
        "N_CVN_01  ...  \n",
        "N_CVN_02  ...  \n",
        "N_CVN_03  ...  \n",
        "N_CVN_04  ...  \n",
        "N_CVN_05  ...  \n",
        "\n",
        "[5 rows x 34609 columns]"
       ]
      }
     ],
     "prompt_number": 11
    },
    {
     "cell_type": "markdown",
     "metadata": {
      "slideshow": {
       "slide_type": "slide"
      }
     },
     "source": [
      "##Splicing Data\n",
      "<H3 align='center'> $\\psi$ - <u>P</u>ercent <u>S</u>pliced <u>I</u>n.</H3><br>\n",
      "<div align='right'>Quantified with <a href='http://genes.mit.edu/burgelab/miso/'>MISO</a><br>\n",
      "In this case, we filtered by $\\psi$ confidence interval $(CI\\_width < 0.5)$.\n",
      "</div>\n"
     ]
    },
    {
     "cell_type": "code",
     "collapsed": false,
     "input": [
      "a = time()"
     ],
     "language": "python",
     "metadata": {
      "slideshow": {
       "slide_type": "skip"
      }
     },
     "outputs": [],
     "prompt_number": 12
    },
    {
     "cell_type": "code",
     "collapsed": false,
     "input": [
      "splicing_data_file = \"data/psi.tsv\"\n",
      "splicing_data = pandas.read_table(splicing_data_file, index_col=0)\n",
      "print \"Loaded data table, size is (samples, genes):\", expression_data.shape\n",
      "print \"{:.2f}% of values are not NaN\".format(100.*splicing_data.count().sum() / np.product(splicing_data.shape))"
     ],
     "language": "python",
     "metadata": {
      "slideshow": {
       "slide_type": "fragment"
      }
     },
     "outputs": [
      {
       "output_type": "stream",
       "stream": "stdout",
       "text": [
        "Loaded data table, size is (samples, genes): (258, 34609)\n",
        "21.71% of values are not NaN"
       ]
      },
      {
       "output_type": "stream",
       "stream": "stdout",
       "text": [
        "\n"
       ]
      }
     ],
     "prompt_number": 13
    },
    {
     "cell_type": "code",
     "collapsed": false,
     "input": [
      "b = time()\n",
      "\n",
      "print \"This operation took {:.1f} seconds.\".format(b - a)"
     ],
     "language": "python",
     "metadata": {
      "slideshow": {
       "slide_type": "skip"
      }
     },
     "outputs": [
      {
       "output_type": "stream",
       "stream": "stdout",
       "text": [
        "This operation took 52.9 seconds.\n"
       ]
      }
     ],
     "prompt_number": 14
    },
    {
     "cell_type": "code",
     "collapsed": false,
     "input": [
      "splicing_data.head()"
     ],
     "language": "python",
     "metadata": {
      "slideshow": {
       "slide_type": "fragment"
      }
     },
     "outputs": [
      {
       "html": [
        "<div style=\"max-height:1000px;max-width:1500px;overflow:auto;\">\n",
        "<table border=\"1\" class=\"dataframe\">\n",
        "  <thead>\n",
        "    <tr style=\"text-align: right;\">\n",
        "      <th></th>\n",
        "      <th>AFE100093631@uc003txp.1@uc003ubw.1</th>\n",
        "      <th>AFE100101467@uc002kyl.2@uc002kym.1</th>\n",
        "      <th>AFE100101467@uc002kyl.2@uc002kyn.1</th>\n",
        "      <th>AFE10011@uc003lfz.1@uc003lga.1</th>\n",
        "      <th>AFE100128553@uc010lpe.1@uc010lpc.1</th>\n",
        "      <th>AFE100129405@uc009wrf.1@uc001flw.2</th>\n",
        "      <th>AFE100129405@uc009wrf.1@uc009wre.1</th>\n",
        "      <th>AFE100129583@uc003hjw.1uc010ijf.1@uc003hjv.1</th>\n",
        "      <th>AFE100129583@uc003hjx.1uc003hjy.1@uc003hjv.1</th>\n",
        "      <th>AFE100130742@uc003yew.1@uc010mal.1uc003yev.1</th>\n",
        "      <th>AFE100132247@uc010bxi.1@uc010bxg.1</th>\n",
        "      <th>AFE100132247@uc010bxi.1@uc010bxh.1</th>\n",
        "      <th>AFE100132247@uc010bxk.1@uc010bxg.1</th>\n",
        "      <th>AFE100132247@uc010bxk.1@uc010bxh.1</th>\n",
        "      <th>AFE100132247@uc010bxk.1@uc010bxi.1</th>\n",
        "      <th>AFE100132406@uc001eqz.1@uc001erb.1</th>\n",
        "      <th>AFE100132406@uc001eqz.1@uc001erd.2</th>\n",
        "      <th>AFE100132406@uc001eqz.1@uc001ery.2</th>\n",
        "      <th>AFE100132406@uc001eqz.1@uc001esa.1</th>\n",
        "      <th>AFE100132406@uc001eqz.1@uc009wjv.1uc009wkq.1</th>\n",
        "      <th></th>\n",
        "    </tr>\n",
        "    <tr>\n",
        "      <th>sample_id</th>\n",
        "      <th></th>\n",
        "      <th></th>\n",
        "      <th></th>\n",
        "      <th></th>\n",
        "      <th></th>\n",
        "      <th></th>\n",
        "      <th></th>\n",
        "      <th></th>\n",
        "      <th></th>\n",
        "      <th></th>\n",
        "      <th></th>\n",
        "      <th></th>\n",
        "      <th></th>\n",
        "      <th></th>\n",
        "      <th></th>\n",
        "      <th></th>\n",
        "      <th></th>\n",
        "      <th></th>\n",
        "      <th></th>\n",
        "      <th></th>\n",
        "    </tr>\n",
        "  </thead>\n",
        "  <tbody>\n",
        "    <tr>\n",
        "      <th>N_CVN_01</th>\n",
        "      <td>NaN</td>\n",
        "      <td> 0.37</td>\n",
        "      <td>NaN</td>\n",
        "      <td>  NaN</td>\n",
        "      <td> 0.32</td>\n",
        "      <td>NaN</td>\n",
        "      <td>NaN</td>\n",
        "      <td>NaN</td>\n",
        "      <td>NaN</td>\n",
        "      <td>  NaN</td>\n",
        "      <td>NaN</td>\n",
        "      <td>NaN</td>\n",
        "      <td>NaN</td>\n",
        "      <td>NaN</td>\n",
        "      <td>NaN</td>\n",
        "      <td>NaN</td>\n",
        "      <td> 0.37</td>\n",
        "      <td>  NaN</td>\n",
        "      <td> NaN</td>\n",
        "      <td> 0.01</td>\n",
        "      <td>...</td>\n",
        "    </tr>\n",
        "    <tr>\n",
        "      <th>N_CVN_02</th>\n",
        "      <td>NaN</td>\n",
        "      <td>  NaN</td>\n",
        "      <td>NaN</td>\n",
        "      <td>  NaN</td>\n",
        "      <td> 0.34</td>\n",
        "      <td>NaN</td>\n",
        "      <td>NaN</td>\n",
        "      <td>NaN</td>\n",
        "      <td>NaN</td>\n",
        "      <td>  NaN</td>\n",
        "      <td>NaN</td>\n",
        "      <td>NaN</td>\n",
        "      <td>NaN</td>\n",
        "      <td>NaN</td>\n",
        "      <td>NaN</td>\n",
        "      <td>NaN</td>\n",
        "      <td> 0.32</td>\n",
        "      <td>  NaN</td>\n",
        "      <td> NaN</td>\n",
        "      <td>  NaN</td>\n",
        "      <td>...</td>\n",
        "    </tr>\n",
        "    <tr>\n",
        "      <th>N_CVN_03</th>\n",
        "      <td>NaN</td>\n",
        "      <td>  NaN</td>\n",
        "      <td>NaN</td>\n",
        "      <td>  NaN</td>\n",
        "      <td>  NaN</td>\n",
        "      <td>NaN</td>\n",
        "      <td>NaN</td>\n",
        "      <td>NaN</td>\n",
        "      <td>NaN</td>\n",
        "      <td>  NaN</td>\n",
        "      <td>NaN</td>\n",
        "      <td>NaN</td>\n",
        "      <td>NaN</td>\n",
        "      <td>NaN</td>\n",
        "      <td>NaN</td>\n",
        "      <td>NaN</td>\n",
        "      <td>  NaN</td>\n",
        "      <td>  NaN</td>\n",
        "      <td> NaN</td>\n",
        "      <td>  NaN</td>\n",
        "      <td>...</td>\n",
        "    </tr>\n",
        "    <tr>\n",
        "      <th>N_CVN_04</th>\n",
        "      <td>NaN</td>\n",
        "      <td> 0.43</td>\n",
        "      <td>NaN</td>\n",
        "      <td> 0.03</td>\n",
        "      <td>  NaN</td>\n",
        "      <td>NaN</td>\n",
        "      <td>NaN</td>\n",
        "      <td>NaN</td>\n",
        "      <td>NaN</td>\n",
        "      <td> 0.49</td>\n",
        "      <td>NaN</td>\n",
        "      <td>NaN</td>\n",
        "      <td>NaN</td>\n",
        "      <td>NaN</td>\n",
        "      <td>NaN</td>\n",
        "      <td>NaN</td>\n",
        "      <td> 0.05</td>\n",
        "      <td> 0.97</td>\n",
        "      <td> 0.2</td>\n",
        "      <td>  NaN</td>\n",
        "      <td>...</td>\n",
        "    </tr>\n",
        "    <tr>\n",
        "      <th>N_CVN_05</th>\n",
        "      <td>NaN</td>\n",
        "      <td> 0.09</td>\n",
        "      <td>NaN</td>\n",
        "      <td>  NaN</td>\n",
        "      <td> 0.05</td>\n",
        "      <td>NaN</td>\n",
        "      <td>NaN</td>\n",
        "      <td>NaN</td>\n",
        "      <td>NaN</td>\n",
        "      <td>  NaN</td>\n",
        "      <td>NaN</td>\n",
        "      <td>NaN</td>\n",
        "      <td>NaN</td>\n",
        "      <td>NaN</td>\n",
        "      <td>NaN</td>\n",
        "      <td>NaN</td>\n",
        "      <td> 0.29</td>\n",
        "      <td>  NaN</td>\n",
        "      <td> NaN</td>\n",
        "      <td>  NaN</td>\n",
        "      <td>...</td>\n",
        "    </tr>\n",
        "  </tbody>\n",
        "</table>\n",
        "<p>5 rows \u00d7 89100 columns</p>\n",
        "</div>"
       ],
       "metadata": {},
       "output_type": "pyout",
       "prompt_number": 15,
       "text": [
        "           AFE100093631@uc003txp.1@uc003ubw.1  \\\n",
        "sample_id                                       \n",
        "N_CVN_01                                  NaN   \n",
        "N_CVN_02                                  NaN   \n",
        "N_CVN_03                                  NaN   \n",
        "N_CVN_04                                  NaN   \n",
        "N_CVN_05                                  NaN   \n",
        "\n",
        "           AFE100101467@uc002kyl.2@uc002kym.1  \\\n",
        "sample_id                                       \n",
        "N_CVN_01                                 0.37   \n",
        "N_CVN_02                                  NaN   \n",
        "N_CVN_03                                  NaN   \n",
        "N_CVN_04                                 0.43   \n",
        "N_CVN_05                                 0.09   \n",
        "\n",
        "           AFE100101467@uc002kyl.2@uc002kyn.1  AFE10011@uc003lfz.1@uc003lga.1  \\\n",
        "sample_id                                                                       \n",
        "N_CVN_01                                  NaN                             NaN   \n",
        "N_CVN_02                                  NaN                             NaN   \n",
        "N_CVN_03                                  NaN                             NaN   \n",
        "N_CVN_04                                  NaN                            0.03   \n",
        "N_CVN_05                                  NaN                             NaN   \n",
        "\n",
        "           AFE100128553@uc010lpe.1@uc010lpc.1  \\\n",
        "sample_id                                       \n",
        "N_CVN_01                                 0.32   \n",
        "N_CVN_02                                 0.34   \n",
        "N_CVN_03                                  NaN   \n",
        "N_CVN_04                                  NaN   \n",
        "N_CVN_05                                 0.05   \n",
        "\n",
        "           AFE100129405@uc009wrf.1@uc001flw.2  \\\n",
        "sample_id                                       \n",
        "N_CVN_01                                  NaN   \n",
        "N_CVN_02                                  NaN   \n",
        "N_CVN_03                                  NaN   \n",
        "N_CVN_04                                  NaN   \n",
        "N_CVN_05                                  NaN   \n",
        "\n",
        "           AFE100129405@uc009wrf.1@uc009wre.1  \\\n",
        "sample_id                                       \n",
        "N_CVN_01                                  NaN   \n",
        "N_CVN_02                                  NaN   \n",
        "N_CVN_03                                  NaN   \n",
        "N_CVN_04                                  NaN   \n",
        "N_CVN_05                                  NaN   \n",
        "\n",
        "           AFE100129583@uc003hjw.1uc010ijf.1@uc003hjv.1  \\\n",
        "sample_id                                                 \n",
        "N_CVN_01                                            NaN   \n",
        "N_CVN_02                                            NaN   \n",
        "N_CVN_03                                            NaN   \n",
        "N_CVN_04                                            NaN   \n",
        "N_CVN_05                                            NaN   \n",
        "\n",
        "           AFE100129583@uc003hjx.1uc003hjy.1@uc003hjv.1  \\\n",
        "sample_id                                                 \n",
        "N_CVN_01                                            NaN   \n",
        "N_CVN_02                                            NaN   \n",
        "N_CVN_03                                            NaN   \n",
        "N_CVN_04                                            NaN   \n",
        "N_CVN_05                                            NaN   \n",
        "\n",
        "           AFE100130742@uc003yew.1@uc010mal.1uc003yev.1  \\\n",
        "sample_id                                                 \n",
        "N_CVN_01                                            NaN   \n",
        "N_CVN_02                                            NaN   \n",
        "N_CVN_03                                            NaN   \n",
        "N_CVN_04                                           0.49   \n",
        "N_CVN_05                                            NaN   \n",
        "\n",
        "           AFE100132247@uc010bxi.1@uc010bxg.1  \\\n",
        "sample_id                                       \n",
        "N_CVN_01                                  NaN   \n",
        "N_CVN_02                                  NaN   \n",
        "N_CVN_03                                  NaN   \n",
        "N_CVN_04                                  NaN   \n",
        "N_CVN_05                                  NaN   \n",
        "\n",
        "           AFE100132247@uc010bxi.1@uc010bxh.1  \\\n",
        "sample_id                                       \n",
        "N_CVN_01                                  NaN   \n",
        "N_CVN_02                                  NaN   \n",
        "N_CVN_03                                  NaN   \n",
        "N_CVN_04                                  NaN   \n",
        "N_CVN_05                                  NaN   \n",
        "\n",
        "           AFE100132247@uc010bxk.1@uc010bxg.1  \\\n",
        "sample_id                                       \n",
        "N_CVN_01                                  NaN   \n",
        "N_CVN_02                                  NaN   \n",
        "N_CVN_03                                  NaN   \n",
        "N_CVN_04                                  NaN   \n",
        "N_CVN_05                                  NaN   \n",
        "\n",
        "           AFE100132247@uc010bxk.1@uc010bxh.1  \\\n",
        "sample_id                                       \n",
        "N_CVN_01                                  NaN   \n",
        "N_CVN_02                                  NaN   \n",
        "N_CVN_03                                  NaN   \n",
        "N_CVN_04                                  NaN   \n",
        "N_CVN_05                                  NaN   \n",
        "\n",
        "           AFE100132247@uc010bxk.1@uc010bxi.1  \\\n",
        "sample_id                                       \n",
        "N_CVN_01                                  NaN   \n",
        "N_CVN_02                                  NaN   \n",
        "N_CVN_03                                  NaN   \n",
        "N_CVN_04                                  NaN   \n",
        "N_CVN_05                                  NaN   \n",
        "\n",
        "           AFE100132406@uc001eqz.1@uc001erb.1  \\\n",
        "sample_id                                       \n",
        "N_CVN_01                                  NaN   \n",
        "N_CVN_02                                  NaN   \n",
        "N_CVN_03                                  NaN   \n",
        "N_CVN_04                                  NaN   \n",
        "N_CVN_05                                  NaN   \n",
        "\n",
        "           AFE100132406@uc001eqz.1@uc001erd.2  \\\n",
        "sample_id                                       \n",
        "N_CVN_01                                 0.37   \n",
        "N_CVN_02                                 0.32   \n",
        "N_CVN_03                                  NaN   \n",
        "N_CVN_04                                 0.05   \n",
        "N_CVN_05                                 0.29   \n",
        "\n",
        "           AFE100132406@uc001eqz.1@uc001ery.2  \\\n",
        "sample_id                                       \n",
        "N_CVN_01                                  NaN   \n",
        "N_CVN_02                                  NaN   \n",
        "N_CVN_03                                  NaN   \n",
        "N_CVN_04                                 0.97   \n",
        "N_CVN_05                                  NaN   \n",
        "\n",
        "           AFE100132406@uc001eqz.1@uc001esa.1  \\\n",
        "sample_id                                       \n",
        "N_CVN_01                                  NaN   \n",
        "N_CVN_02                                  NaN   \n",
        "N_CVN_03                                  NaN   \n",
        "N_CVN_04                                  0.2   \n",
        "N_CVN_05                                  NaN   \n",
        "\n",
        "           AFE100132406@uc001eqz.1@uc009wjv.1uc009wkq.1      \n",
        "sample_id                                                    \n",
        "N_CVN_01                                           0.01 ...  \n",
        "N_CVN_02                                            NaN ...  \n",
        "N_CVN_03                                            NaN ...  \n",
        "N_CVN_04                                            NaN ...  \n",
        "N_CVN_05                                            NaN ...  \n",
        "\n",
        "[5 rows x 89100 columns]"
       ]
      }
     ],
     "prompt_number": 15
    },
    {
     "cell_type": "markdown",
     "metadata": {
      "slideshow": {
       "slide_type": "slide"
      }
     },
     "source": [
      "##Metadata\n",
      "<marker id=\"metadata\"/>\n",
      "<H3 align='center'> Data about data. </H3>\n",
      "<br>\n",
      "<div align='right'>This takes a few minutes the first time,<br> but will never need to be done again.</div>"
     ]
    },
    {
     "cell_type": "markdown",
     "metadata": {
      "slideshow": {
       "slide_type": "fragment"
      }
     },
     "source": [
      "###Identify pooled (> 1 cell) samples"
     ]
    },
    {
     "cell_type": "code",
     "collapsed": false,
     "input": [
      "metadata = pandas.DataFrame(index = expression_data.index & splicing_data.index)\n",
      "\n",
      "metadata['pooled_samples'] = False\n",
      "\n",
      "metadata['pooled_samples'].ix[['P_M2nd_33', 'P_M2nd_34', \n",
      "                               'N_CVN_17', 'N_CVN_35',\n",
      "                               'M_M2_05', 'M_M2nd_13', 'M_M2nd_21', \n",
      "                               'S_MSA_19', 'S_MSA_29']] = True"
     ],
     "language": "python",
     "metadata": {
      "slideshow": {
       "slide_type": "fragment"
      }
     },
     "outputs": [],
     "prompt_number": 16
    },
    {
     "cell_type": "markdown",
     "metadata": {
      "slideshow": {
       "slide_type": "subslide"
      }
     },
     "source": [
      "###Set sample \"phenotype.\" <br>\n",
      "\n",
      "In this case, the phenotype is encoded in the first letter of the sample label."
     ]
    },
    {
     "cell_type": "code",
     "collapsed": false,
     "input": [
      "metadata['phenotype'] = [x[0] for x in metadata.index]"
     ],
     "language": "python",
     "metadata": {
      "slideshow": {
       "slide_type": "fragment"
      }
     },
     "outputs": [],
     "prompt_number": 17
    },
    {
     "cell_type": "markdown",
     "metadata": {
      "slideshow": {
       "slide_type": "subslide"
      }
     },
     "source": [
      "\n",
      "###Get some help to choose pleasing colors.\n",
      "\n",
      "[`Set1`](http://matplotlib.org/examples/color/colormaps_reference.html) is my favoriate color palette."
     ]
    },
    {
     "cell_type": "code",
     "collapsed": false,
     "input": [
      "import seaborn\n",
      "import matplotlib as mpl\n",
      "palette = map(mpl.colors.rgb2hex, seaborn.color_palette('Set1'))\n",
      "seaborn.palplot(palette)"
     ],
     "language": "python",
     "metadata": {
      "slideshow": {
       "slide_type": "fragment"
      }
     },
     "outputs": [
      {
       "metadata": {},
       "output_type": "display_data",
       "png": "[encoded data removed]",
       "text": [
        "<matplotlib.figure.Figure at 0x10c0177d0>"
       ]
      }
     ],
     "prompt_number": 18
    },
    {
     "cell_type": "markdown",
     "metadata": {
      "slideshow": {
       "slide_type": "fragment"
      }
     },
     "source": [
      "###Assign colors to phenotypes."
     ]
    },
    {
     "cell_type": "code",
     "collapsed": false,
     "input": [
      "color_map = {'P': palette[1], # blue\n",
      "             'N': palette[2], # green\n",
      "             'M': palette[0], # red\n",
      "             'S': palette[4]} # orange"
     ],
     "language": "python",
     "metadata": {
      "slideshow": {
       "slide_type": "fragment"
      }
     },
     "outputs": [],
     "prompt_number": 19
    },
    {
     "cell_type": "markdown",
     "metadata": {
      "slideshow": {
       "slide_type": "subslide"
      }
     },
     "source": [
      "###Create boolean columns for each phenotype.\n",
      "...this will be useful later."
     ]
    },
    {
     "cell_type": "code",
     "collapsed": false,
     "input": [
      "for phenotype in ['P', 'N', 'M', 'S']:\n",
      "    metadata[phenotype + '_cell'] = metadata['phenotype'] == phenotype"
     ],
     "language": "python",
     "metadata": {
      "slideshow": {
       "slide_type": "fragment"
      }
     },
     "outputs": [],
     "prompt_number": 20
    },
    {
     "cell_type": "markdown",
     "metadata": {
      "slideshow": {
       "slide_type": "slide"
      }
     },
     "source": [
      "###Assemble data into a <code>flotilla.Study</code> object"
     ]
    },
    {
     "cell_type": "code",
     "collapsed": false,
     "input": [
      "a = time()"
     ],
     "language": "python",
     "metadata": {
      "slideshow": {
       "slide_type": "skip"
      }
     },
     "outputs": [],
     "prompt_number": 21
    },
    {
     "cell_type": "code",
     "collapsed": false,
     "input": [
      "study = flotilla.Study(#study metadata\n",
      "                       sample_metadata=metadata,\n",
      "                       #a version for this study, to track changes\n",
      "                       version='0.1.0',\n",
      "                       #pandas.DataFrame with expression data, created above\n",
      "                       expression_data=expression_data, \n",
      "                       #column in study.expression.feature_data to map ensg id to symbols\n",
      "                       #(default feature_data is in flotilla_packages/<species>)\n",
      "                       expression_feature_rename_col='gene_name',\n",
      "                       #pandas.DataFrame with splicing data, created above\n",
      "                       splicing_data=splicing_data,\n",
      "                       #column in study.splicing.feature_data to map ensg id to symbols \n",
      "                       #(default feature_data is in flotilla_packages/<species>)\n",
      "                       splicing_feature_rename_col='gene_name',\n",
      "                       #pandas.DataFrame with mapping statistics, created above\n",
      "                       mapping_stats_data=mapstats_data,\n",
      "                       #column with number of mapped reads\n",
      "                       mapping_stats_number_mapped_col='Uniquely mapped reads number',\n",
      "                       #specify species\n",
      "                       species='hg19',\n",
      "                       #specify which column of metadata holds phenotype information\n",
      "                       metadata_phenotype_col ='phenotype',\n",
      "                       #specify a dictionary mapping phenotype to colors\n",
      "                       metadata_phenotype_to_color=color_map,\n",
      "                       #specify the order which you would like samples to be plotted:\n",
      "                       metadata_phenotype_order=[\"P\", \"N\", \"M\", \"S\"],\n",
      "                       #specify a column that indicates whether a sample is pooled or single-cell\n",
      "                       metadata_pooled_col='pooled_samples',\n",
      "                      )"
     ],
     "language": "python",
     "metadata": {
      "slideshow": {
       "slide_type": "fragment"
      }
     },
     "outputs": [
      {
       "output_type": "stream",
       "stream": "stdout",
       "text": [
        "2015-01-11 11:33:40\tInitializing Study\n",
        "2015-01-11 11:33:40\tInitializing Predictor configuration manager for Study\n",
        "2015-01-11 11:33:40\tPredictor ExtraTreesClassifier is of type <class 'sklearn.ensemble.forest.ExtraTreesClassifier'>\n",
        "2015-01-11 11:33:40\tAdded ExtraTreesClassifier to default predictors\n",
        "2015-01-11 11:33:40\tPredictor ExtraTreesRegressor is of type <class 'sklearn.ensemble.forest.ExtraTreesRegressor'>\n",
        "2015-01-11 11:33:40\tAdded ExtraTreesRegressor to default predictors\n",
        "2015-01-11 11:33:40\tPredictor GradientBoostingClassifier is of type <class 'sklearn.ensemble.gradient_boosting.GradientBoostingClassifier'>\n",
        "2015-01-11 11:33:40\tAdded GradientBoostingClassifier to default predictors\n",
        "2015-01-11 11:33:40\tPredictor GradientBoostingRegressor is of type <class 'sklearn.ensemble.gradient_boosting.GradientBoostingRegressor'>\n",
        "2015-01-11 11:33:40\tAdded GradientBoostingRegressor to default predictors\n",
        "2015-01-11 11:33:40\tLoading metadata\n",
        "2015-01-11 11:33:40\tLoading species metadata from ~/flotilla_packages\n",
        "Creating a directory for saving the data for this project: /Users/lovci/flotilla_projects/hg19\n"
       ]
      },
      {
       "output_type": "stream",
       "stream": "stdout",
       "text": [
        "https://s3-us-west-2.amazonaws.com/flotilla-projects/hg19/datapackage.json has not been downloaded before.\n",
        "\tDownloading now to /Users/lovci/flotilla_projects/hg19/datapackage.json\n",
        "https://s3-us-west-2.amazonaws.com/flotilla-projects/hg19/gencode.v19.annotation.gene.attributes.plus.json has not been downloaded before.\n",
        "\tDownloading now to /Users/lovci/flotilla_projects/hg19/gencode.v19.annotation.gene.attributes.plus.json\n"
       ]
      },
      {
       "output_type": "stream",
       "stream": "stdout",
       "text": [
        "https://s3-us-west-2.amazonaws.com/flotilla-projects/hg19/miso_metadata_gencode_v19_plus.json has not been downloaded before.\n",
        "\tDownloading now to /Users/lovci/flotilla_projects/hg19/miso_metadata_gencode_v19_plus.json\n",
        "https://s3-us-west-2.amazonaws.com/flotilla-projects/ercc/ERCC_Controls.txt has not been downloaded before.\n",
        "\tDownloading now to /Users/lovci/flotilla_projects/hg19/ERCC_Controls.txt\n"
       ]
      },
      {
       "output_type": "stream",
       "stream": "stderr",
       "text": [
        "No phenotype to marker (matplotlib plotting symbol) was provided, so each phenotype will be plotted as a circle in visualizations.\n",
        "Samples had too few mapped reads (<5.0e+05 reads):\n",
        "\tM_M2nd_23, M_M2nd_30, M_M2nd_31, M_M2nd_32, M_M3_10, P_P4_2, P_P8_12, P_P8_3, P_P8_4, P_P8_7, P_P8_8, P_P8_9, S_MSA_25\n",
        "Error loading species hg19 data "
       ]
      },
      {
       "output_type": "stream",
       "stream": "stdout",
       "text": [
        "2015-01-11 11:35:59\tLoading expression data\n",
        "2015-01-11 11:35:59\tInitializing expression\n",
        "2015-01-11 11:36:00\tDone initializing expression\n"
       ]
      },
      {
       "output_type": "stream",
       "stream": "stderr",
       "text": [
        "Removing technical outliers from consideration in expression:\n",
        "\tM_M2nd_23, M_M2nd_30, M_M2nd_31, M_M2nd_32, M_M3_10, P_P4_2, P_P8_12, P_P8_3, P_P8_4, P_P8_7, P_P8_8, P_P8_9, S_MSA_25\n",
        "Removing technical outliers from consideration in splicing:\n",
        "\tM_M2nd_23, M_M2nd_30, M_M2nd_31, M_M2nd_32, M_M3_10, P_P4_2, P_P8_12, P_P8_3, P_P8_4, P_P8_7, P_P8_8, P_P8_9, S_MSA_25\n"
       ]
      },
      {
       "output_type": "stream",
       "stream": "stdout",
       "text": [
        "2015-01-11 11:36:02\tLoading splicing data\n",
        "2015-01-11 11:36:02\tInitializing splicing\n",
        "2015-01-11 11:36:03\tDone initializing splicing\n"
       ]
      },
      {
       "output_type": "stream",
       "stream": "stdout",
       "text": [
        "2015-01-11 11:36:03\tSuccessfully initialized a Study object!\n"
       ]
      }
     ],
     "prompt_number": 22
    },
    {
     "cell_type": "code",
     "collapsed": false,
     "input": [
      "b = time()\n",
      "print \"This operation took {:.1f} seconds.\".format(b - a)"
     ],
     "language": "python",
     "metadata": {
      "slideshow": {
       "slide_type": "skip"
      }
     },
     "outputs": [
      {
       "output_type": "stream",
       "stream": "stdout",
       "text": [
        "This operation took 143.1 seconds.\n"
       ]
      }
     ],
     "prompt_number": 23
    },
    {
     "cell_type": "markdown",
     "metadata": {
      "slideshow": {
       "slide_type": "slide"
      }
     },
     "source": [
      "##Save data and metadata\n",
      "To be loaded in other notebooks for analysis."
     ]
    },
    {
     "cell_type": "code",
     "collapsed": false,
     "input": [
      "a = time()"
     ],
     "language": "python",
     "metadata": {
      "slideshow": {
       "slide_type": "skip"
      }
     },
     "outputs": [],
     "prompt_number": 24
    },
    {
     "cell_type": "code",
     "collapsed": false,
     "input": [
      "study.save('pag_demo')"
     ],
     "language": "python",
     "metadata": {
      "slideshow": {
       "slide_type": "fragment"
      }
     },
     "outputs": [
      {
       "output_type": "stream",
       "stream": "stdout",
       "text": [
        "Wrote datapackage to /Users/lovci/flotilla_projects/pag_demo/datapackage.json"
       ]
      }
     ],
     "prompt_number": 25
    },
    {
     "cell_type": "code",
     "collapsed": false,
     "input": [
      "b = time()\n",
      "print \"This operation took {:.1f} seconds.\".format(b - a)"
     ],
     "language": "python",
     "metadata": {
      "slideshow": {
       "slide_type": "skip"
      }
     },
     "outputs": [
      {
       "output_type": "stream",
       "stream": "stdout",
       "text": [
        "This operation took 161.0 seconds.\n"
       ]
      }
     ],
     "prompt_number": 26
    },
    {
     "cell_type": "code",
     "collapsed": false,
     "input": [
      "finish_time = time()\n",
      "total_time = finish_time - start_time"
     ],
     "language": "python",
     "metadata": {
      "slideshow": {
       "slide_type": "skip"
      }
     },
     "outputs": [],
     "prompt_number": 27
    },
    {
     "cell_type": "markdown",
     "metadata": {
      "slideshow": {
       "slide_type": "slide"
      }
     },
     "source": [
      "##Summary"
     ]
    },
    {
     "cell_type": "markdown",
     "metadata": {
      "slideshow": {
       "slide_type": "fragment"
      }
     },
     "source": [
      "  * Loaded data from multiple sources into a `flotilla.Study` object.\n",
      "  <br>\n",
      "  <br>\n",
      "  * The `Study` object contains mapping data, expression data, splicing data, sample metadata and feature (gene/splicing event) metadata."
     ]
    },
    {
     "cell_type": "markdown",
     "metadata": {
      "slideshow": {
       "slide_type": "subslide"
      }
     },
     "source": [
      "##Next steps\n",
      "<br>\n",
      "\n",
      "Return to the [dashboard](/tree) and shutdown this notebook to clear system memory or restart from the Kernel menu, above.\n",
      "\n",
      "_(A single running notebook with these data takes ~1.2GB RAM, the limit for demos is 2GB RAM)_\n",
      "\n",
      "<br>\n",
      "Then, continue to the [Dimensionality Reduction](2_Dimensionality%20Reduction.ipynb) notebook."
     ]
    },
    {
     "cell_type": "code",
     "collapsed": false,
     "input": [
      "print \"This notebook took {:.1f} seconds to run.\".format(total_time)"
     ],
     "language": "python",
     "metadata": {
      "slideshow": {
       "slide_type": "skip"
      }
     },
     "outputs": [
      {
       "output_type": "stream",
       "stream": "stdout",
       "text": [
        "This notebook took 368.8 seconds to run.\n"
       ]
      }
     ],
     "prompt_number": 28
    }
   ],
   "metadata": {}
  }
 ]
}