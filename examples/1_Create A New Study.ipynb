{
 "metadata": {
  "celltoolbar": "Slideshow",
  "name": "",
  "signature": "sha256:4811804676a44fabd43a3da7bf7183db70f318a9bd94fdbf78cf3025ed6c2bb6"
 },
 "nbformat": 3,
 "nbformat_minor": 0,
 "worksheets": [
  {
   "cells": [
    {
     "cell_type": "markdown",
     "metadata": {
      "slideshow": {
       "slide_type": "slide"
      }
     },
     "source": [
      "#Make a new `flotilla.Study`\n",
      "<br>\n",
      "`flotilla.Study` objects are the main \"user-interface\" for `flotilla` data and features\n",
      "<br>\n"
     ]
    },
    {
     "cell_type": "code",
     "collapsed": false,
     "input": [
      "import css_styling"
     ],
     "language": "python",
     "metadata": {
      "slideshow": {
       "slide_type": "skip"
      }
     },
     "outputs": []
    },
    {
     "cell_type": "markdown",
     "metadata": {
      "slideshow": {
       "slide_type": "slide"
      }
     },
     "source": [
      "##Requirements for this demonstration.\n",
      "<br>\n",
      "  * Hardware<br><br>\n",
      "    * Lots of RAM (sorry, working on this)\n",
      "  <br>\n",
      "  <br>\n",
      "  <br>  \n",
      "  * Metrics<br><br>\n",
      "  \n",
      "    * Mapping statistics data table<br>\n",
      "   Combined output from aligner, quantifying number of reads mapped in each sample\n",
      "    <br>\n",
      "    <br>\n",
      "    * Expression data table<br>\n",
      "    [Gencode](http://www.gencodegenes.org/) gene IDs\n",
      "    <br>\n",
      "    <br>\n",
      "    * Splicing data table<br>[MISO](http://miso.readthedocs.org/) qunatification and ids\n",
      "  <br>\n",
      "  <br>\n",
      "  <br>\n",
      "  * User-defined items in metadata (will create these).\n",
      "    <br>\n",
      "    <br>\n",
      "    * Sample Colors\n",
      "    <br>\n",
      "    <br>\n",
      "    * Pooled samples vs single cells labels\n",
      "    <br>\n",
      "    <br>\n",
      "    * A _phenotype_ attribute.    "
     ]
    },
    {
     "cell_type": "markdown",
     "metadata": {
      "slideshow": {
       "slide_type": "notes"
      }
     },
     "source": [
      "We assume you already have a pipeline in place to analyze and quantify data. If you don't the pipeline is available on the `docker` image. While it is possible to create custom species, that is left for another notebook. Here we assume you have human (hg19/GRCh37) or mouse (mm10/GRCm38) data. "
     ]
    },
    {
     "cell_type": "markdown",
     "metadata": {
      "slideshow": {
       "slide_type": "slide"
      }
     },
     "source": [
      "##Our data\n",
      "<H2 align='center'>_In vitro_ directed differentiation of fibroblasts with a sequenced genome.</H2>\n",
      "<br>\n",
      "<H4><div align='right'><font color=#0066CC> P cells (P) </font> <br>\n",
      "<font color=#29A329> N cells (N) </font><br>\n",
      "<font color=#CC0000> M cells (M) </font><br>\n",
      "<font color=#FF9900> S cells (S) <br> </font></div></H4>"
     ]
    },
    {
     "cell_type": "markdown",
     "metadata": {
      "slideshow": {
       "slide_type": "subslide"
      }
     },
     "source": [
      "<img src=\"img/differentiation.png\">"
     ]
    },
    {
     "cell_type": "markdown",
     "metadata": {
      "slideshow": {
       "slide_type": "slide"
      }
     },
     "source": [
      "##Study Setup\n",
      "<H3 align='center'>Import and Save Data</H3>\n",
      "<br>\n",
      "<div align='right'>Use `pandas` package to manipulate on-disk files.<br>Save the data into a `flotilla` 'datapackage.'</div>"
     ]
    },
    {
     "cell_type": "code",
     "collapsed": false,
     "input": [
      "import flotilla #automatically calls %matplotlib inline\n",
      "import pandas\n",
      "import os\n",
      "from time import time\n",
      "import numpy as np\n"
     ],
     "language": "python",
     "metadata": {
      "slideshow": {
       "slide_type": "fragment"
      }
     },
     "outputs": []
    },
    {
     "cell_type": "code",
     "collapsed": false,
     "input": [
      "start_time = time()"
     ],
     "language": "python",
     "metadata": {
      "slideshow": {
       "slide_type": "skip"
      }
     },
     "outputs": []
    },
    {
     "cell_type": "markdown",
     "metadata": {
      "slideshow": {
       "slide_type": "slide"
      }
     },
     "source": [
      "<div align='left'><H2>Technical data</H2></div>\n",
      "<H3 align='center'>Mapping statistics.</H3>\n",
      "<br>\n",
      "<div align='right'>Output of [RNA-STAR](https://code.google.com/p/rna-star/) genome aligner.</div>"
     ]
    },
    {
     "cell_type": "code",
     "collapsed": false,
     "input": [
      "a = time()"
     ],
     "language": "python",
     "metadata": {
      "slideshow": {
       "slide_type": "skip"
      }
     },
     "outputs": []
    },
    {
     "cell_type": "code",
     "collapsed": false,
     "input": [
      "mapstats_data_file = \"data/mapping_stats.tsv\"\n",
      "mapstats_data = pandas.read_table(mapstats_data_file, index_col=0)\n",
      "print \"Loaded data table, size is (samples, genes):\", mapstats_data.shape"
     ],
     "language": "python",
     "metadata": {
      "slideshow": {
       "slide_type": "fragment"
      }
     },
     "outputs": []
    },
    {
     "cell_type": "code",
     "collapsed": false,
     "input": [
      "b = time()\n",
      "\n",
      "print \"This operation took {:.5f} seconds.\".format(b - a)"
     ],
     "language": "python",
     "metadata": {
      "slideshow": {
       "slide_type": "skip"
      }
     },
     "outputs": []
    },
    {
     "cell_type": "code",
     "collapsed": false,
     "input": [
      "mapstats_data.head()"
     ],
     "language": "python",
     "metadata": {
      "slideshow": {
       "slide_type": "fragment"
      }
     },
     "outputs": []
    },
    {
     "cell_type": "markdown",
     "metadata": {
      "slideshow": {
       "slide_type": "slide"
      }
     },
     "source": [
      "##Expression Data\n",
      "\n",
      "<H3><div align='center'>TPM - Transcripts-per-million.</div></H3>\n",
      "<div align='right'>\n",
      "Quantified with <a href='http://www.cs.cmu.edu/~ckingsf/software/sailfish/'>Sailfish</a>\n",
      "</div>"
     ]
    },
    {
     "cell_type": "code",
     "collapsed": false,
     "input": [
      "a = time()"
     ],
     "language": "python",
     "metadata": {
      "slideshow": {
       "slide_type": "skip"
      }
     },
     "outputs": []
    },
    {
     "cell_type": "heading",
     "level": 3,
     "metadata": {},
     "source": [
      "expression_data_file = \"data/tpm.tsv\"\n",
      "expression_data = pandas.read_table(expression_data_file, index_col=0)\n",
      "print \"Loaded data table, size is (samples, genes):\", expression_data.shape"
     ]
    },
    {
     "cell_type": "code",
     "collapsed": false,
     "input": [
      "b = time()\n",
      "\n",
      "print \"This operation took {:.1f} seconds.\".format(b - a)"
     ],
     "language": "python",
     "metadata": {
      "slideshow": {
       "slide_type": "skip"
      }
     },
     "outputs": []
    },
    {
     "cell_type": "code",
     "collapsed": false,
     "input": [
      "expression_data.head()"
     ],
     "language": "python",
     "metadata": {
      "slideshow": {
       "slide_type": "fragment"
      }
     },
     "outputs": []
    },
    {
     "cell_type": "markdown",
     "metadata": {
      "slideshow": {
       "slide_type": "slide"
      }
     },
     "source": [
      "##Splicing Data\n",
      "<H3 align='center'> $\\psi$ - <u>P</u>ercent <u>S</u>pliced <u>I</u>n.</H3><br>\n",
      "<div align='right'>Quantified with <a href='http://genes.mit.edu/burgelab/miso/'>MISO</a><br>\n",
      "In this case, we filtered by $\\psi$ confidence interval $(CI\\_width < 0.5)$.\n",
      "</div>\n"
     ]
    },
    {
     "cell_type": "code",
     "collapsed": false,
     "input": [
      "a = time()"
     ],
     "language": "python",
     "metadata": {
      "slideshow": {
       "slide_type": "skip"
      }
     },
     "outputs": []
    },
    {
     "cell_type": "code",
     "collapsed": false,
     "input": [
      "splicing_data_file = \"data/psi.tsv\"\n",
      "splicing_data = pandas.read_table(splicing_data_file, index_col=0)\n",
      "print \"Loaded data table, size is (samples, genes):\", expression_data.shape\n",
      "print \"{:.2f}% of values are not NaN\".format(100.*splicing_data.count().sum() / np.product(splicing_data.shape))"
     ],
     "language": "python",
     "metadata": {
      "slideshow": {
       "slide_type": "fragment"
      }
     },
     "outputs": []
    },
    {
     "cell_type": "code",
     "collapsed": false,
     "input": [
      "b = time()\n",
      "\n",
      "print \"This operation took {:.1f} seconds.\".format(b - a)"
     ],
     "language": "python",
     "metadata": {
      "slideshow": {
       "slide_type": "skip"
      }
     },
     "outputs": []
    },
    {
     "cell_type": "code",
     "collapsed": false,
     "input": [
      "splicing_data.head()"
     ],
     "language": "python",
     "metadata": {
      "slideshow": {
       "slide_type": "fragment"
      }
     },
     "outputs": []
    },
    {
     "cell_type": "markdown",
     "metadata": {
      "slideshow": {
       "slide_type": "slide"
      }
     },
     "source": [
      "##Metadata\n",
      "<marker id=\"metadata\"/>\n",
      "<H3 align='center'> Data about data. </H3>\n",
      "<br>\n",
      "<div align='right'>This takes a few minutes the first time,<br> but will never need to be done again.</div>"
     ]
    },
    {
     "cell_type": "markdown",
     "metadata": {
      "slideshow": {
       "slide_type": "fragment"
      }
     },
     "source": [
      "###Identify pooled (> 1 cell) samples"
     ]
    },
    {
     "cell_type": "code",
     "collapsed": false,
     "input": [
      "metadata = pandas.DataFrame(index = expression_data.index & splicing_data.index)\n",
      "\n",
      "metadata['pooled_samples'] = False\n",
      "\n",
      "metadata['pooled_samples'].ix[['P_M2nd_33', 'P_M2nd_34', \n",
      "                               'N_CVN_17', 'N_CVN_35',\n",
      "                               'M_M2_05', 'M_M2nd_13', 'M_M2nd_21', \n",
      "                               'S_MSA_19', 'S_MSA_29']] = True"
     ],
     "language": "python",
     "metadata": {
      "slideshow": {
       "slide_type": "fragment"
      }
     },
     "outputs": []
    },
    {
     "cell_type": "markdown",
     "metadata": {
      "slideshow": {
       "slide_type": "subslide"
      }
     },
     "source": [
      "###Set sample \"phenotype.\" <br>\n",
      "\n",
      "In this case, the phenotype is encoded in the first letter of the sample label."
     ]
    },
    {
     "cell_type": "code",
     "collapsed": false,
     "input": [
      "metadata['phenotype'] = [x[0] for x in metadata.index]"
     ],
     "language": "python",
     "metadata": {
      "slideshow": {
       "slide_type": "fragment"
      }
     },
     "outputs": []
    },
    {
     "cell_type": "markdown",
     "metadata": {
      "slideshow": {
       "slide_type": "subslide"
      }
     },
     "source": [
      "\n",
      "###Get some help to choose pleasing colors.\n",
      "\n",
      "[`Set1`](http://matplotlib.org/examples/color/colormaps_reference.html) is my favoriate color palette."
     ]
    },
    {
     "cell_type": "code",
     "collapsed": false,
     "input": [
      "import seaborn\n",
      "import matplotlib as mpl\n",
      "palette = map(mpl.colors.rgb2hex, seaborn.color_palette('Set1'))\n",
      "seaborn.palplot(palette)"
     ],
     "language": "python",
     "metadata": {
      "slideshow": {
       "slide_type": "fragment"
      }
     },
     "outputs": []
    },
    {
     "cell_type": "markdown",
     "metadata": {
      "slideshow": {
       "slide_type": "fragment"
      }
     },
     "source": [
      "###Assign colors to phenotypes."
     ]
    },
    {
     "cell_type": "code",
     "collapsed": false,
     "input": [
      "color_map = {'P': palette[1], # blue\n",
      "             'N': palette[2], # green\n",
      "             'M': palette[0], # red\n",
      "             'S': palette[4]} # orange"
     ],
     "language": "python",
     "metadata": {
      "slideshow": {
       "slide_type": "fragment"
      }
     },
     "outputs": []
    },
    {
     "cell_type": "markdown",
     "metadata": {
      "slideshow": {
       "slide_type": "subslide"
      }
     },
     "source": [
      "###Create boolean columns for each phenotype.\n",
      "...this will be useful later."
     ]
    },
    {
     "cell_type": "code",
     "collapsed": false,
     "input": [
      "for phenotype in ['P', 'N', 'M', 'S']:\n",
      "    metadata[phenotype + '_cell'] = metadata['phenotype'] == phenotype"
     ],
     "language": "python",
     "metadata": {
      "slideshow": {
       "slide_type": "fragment"
      }
     },
     "outputs": []
    },
    {
     "cell_type": "markdown",
     "metadata": {
      "slideshow": {
       "slide_type": "slide"
      }
     },
     "source": [
      "###Assemble data into a <code>flotilla.Study</code> object"
     ]
    },
    {
     "cell_type": "code",
     "collapsed": false,
     "input": [
      "a = time()"
     ],
     "language": "python",
     "metadata": {
      "slideshow": {
       "slide_type": "skip"
      }
     },
     "outputs": []
    },
    {
     "cell_type": "code",
     "collapsed": false,
     "input": [
      "study = flotilla.Study(#study metadata\n",
      "                       sample_metadata=metadata,\n",
      "                       #a version for this study, to track changes\n",
      "                       version='0.1.0',\n",
      "#                       expression_feature_data=pandas.read_json(\"https://s3-us-west-2.amazonaws.com/flotilla-projects/hg19/gencode.v19.annotation.gene.attributes.plus.json\")\n",
      "#                       splicing_feature_data=pandas.read_json(\"https://s3-us-west-2.amazonaws.com/flotilla-projects/hg19/miso_metadata_gencode_v19_plus.json\")\n",
      "                       #pandas.DataFrame with expression data, created above\n",
      "                       expression_data=expression_data, \n",
      "                       #column in study.expression.feature_data to map ensg id to symbols\n",
      "                       #(default feature_data is in flotilla_packages/<species>)\n",
      "                       expression_feature_rename_col='gene_name',\n",
      "                       #pandas.DataFrame with splicing data, created above\n",
      "                       splicing_data=splicing_data,\n",
      "                       #column in study.splicing.feature_data to map ensg id to symbols \n",
      "                       #(default feature_data is in flotilla_packages/<species>)\n",
      "                       splicing_feature_rename_col='gene_name',\n",
      "                       #pandas.DataFrame with mapping statistics, created above\n",
      "                       mapping_stats_data=mapstats_data,\n",
      "                       #column with number of mapped reads\n",
      "                       mapping_stats_number_mapped_col='Uniquely mapped reads number',\n",
      "                       #specify species\n",
      "                       species='hg19',\n",
      "                       #specify which column of metadata holds phenotype information\n",
      "                       metadata_phenotype_col ='phenotype',\n",
      "                       #specify a dictionary mapping phenotype to colors\n",
      "                       metadata_phenotype_to_color=color_map,\n",
      "                       #specify the order which you would like samples to be plotted:\n",
      "                       metadata_phenotype_order=[\"P\", \"N\", \"M\", \"S\"],\n",
      "                       #specify a column that indicates whether a sample is pooled or single-cell\n",
      "                       metadata_pooled_col='pooled_samples',\n",
      "                      )"
     ],
     "language": "python",
     "metadata": {
      "slideshow": {
       "slide_type": "fragment"
      }
     },
     "outputs": []
    },
    {
     "cell_type": "code",
     "collapsed": false,
     "input": [
      "b = time()\n",
      "print \"This operation took {:.1f} seconds.\".format(b - a)"
     ],
     "language": "python",
     "metadata": {
      "slideshow": {
       "slide_type": "skip"
      }
     },
     "outputs": []
    },
    {
     "cell_type": "markdown",
     "metadata": {
      "slideshow": {
       "slide_type": "slide"
      }
     },
     "source": [
      "##Save data and metadata\n",
      "To be loaded in other notebooks for analysis."
     ]
    },
    {
     "cell_type": "code",
     "collapsed": false,
     "input": [
      "a = time()"
     ],
     "language": "python",
     "metadata": {
      "slideshow": {
       "slide_type": "skip"
      }
     },
     "outputs": []
    },
    {
     "cell_type": "code",
     "collapsed": false,
     "input": [
      "study.save('pag_demo')"
     ],
     "language": "python",
     "metadata": {
      "slideshow": {
       "slide_type": "fragment"
      }
     },
     "outputs": []
    },
    {
     "cell_type": "code",
     "collapsed": false,
     "input": [
      "b = time()\n",
      "print \"This operation took {:.1f} seconds.\".format(b - a)"
     ],
     "language": "python",
     "metadata": {
      "slideshow": {
       "slide_type": "skip"
      }
     },
     "outputs": []
    },
    {
     "cell_type": "code",
     "collapsed": false,
     "input": [
      "finish_time = time()\n",
      "total_time = finish_time - start_time"
     ],
     "language": "python",
     "metadata": {
      "slideshow": {
       "slide_type": "skip"
      }
     },
     "outputs": []
    },
    {
     "cell_type": "markdown",
     "metadata": {
      "slideshow": {
       "slide_type": "slide"
      }
     },
     "source": [
      "##Summary"
     ]
    },
    {
     "cell_type": "markdown",
     "metadata": {
      "slideshow": {
       "slide_type": "fragment"
      }
     },
     "source": [
      "  * Loaded data from multiple sources into a `flotilla.Study` object.\n",
      "  <br>\n",
      "  <br>\n",
      "  * The `Study` object contains mapping data, expression data, splicing data, sample metadata and feature (gene/splicing event) metadata."
     ]
    },
    {
     "cell_type": "markdown",
     "metadata": {
      "slideshow": {
       "slide_type": "subslide"
      }
     },
     "source": [
      "##Next steps\n",
      "<br>\n",
      "\n",
      "Return to the [dashboard](/tree) and shutdown this notebook to clear system memory or restart from the Kernel menu, above.\n",
      "\n",
      "_(A single running notebook with these data takes ~1.2GB RAM, the limit for demos is 2GB RAM)_\n",
      "\n",
      "<br>\n",
      "Then, continue to the [Dimensionality Reduction](2_Dimensionality%20Reduction.ipynb) notebook."
     ]
    },
    {
     "cell_type": "code",
     "collapsed": false,
     "input": [
      "print \"This notebook took {:.1f} seconds to run.\".format(total_time)"
     ],
     "language": "python",
     "metadata": {
      "slideshow": {
       "slide_type": "skip"
      }
     },
     "outputs": []
    }
   ],
   "metadata": {}
  }
 ]
}