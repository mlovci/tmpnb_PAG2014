{
 "metadata": {
  "name": "",
  "signature": "sha256:d64ef70eacc915a48db37b1745b662dbf6b9d0f61a2042b49c47e5155ff5513a"
 },
 "nbformat": 3,
 "nbformat_minor": 0,
 "worksheets": [
  {
   "cells": [
    {
     "cell_type": "markdown",
     "metadata": {
      "slideshow": {
       "slide_type": "slide"
      }
     },
     "source": [
      "<div align='center'><img src=\"img/flotilla-logo.png\" width=310 ></div>\n",
      "<br>\n",
      "\n",
      "<H1 align='center'><b><code><font color=\"00628B\">flotilla</font></code> \u2014 An open-source toolkit for single-cell RNA-seq data analysis</b></H1>\n",
      "\n",
      "<H2 align='center'>2015 Plant and Animal Genomes Conference</H2>\n",
      "<H2 align='center'>Michael T Lovci Ph.D.</H2>\n",
      "<br>\n",
      "\n",
      "<div align='center'><img src=\"img/yeolab_art.png\" height=250  width=230/></div>\n",
      "\n",
      "<H3 align='right'>@YeoLab</H3>\n"
     ]
    },
    {
     "cell_type": "code",
     "collapsed": false,
     "input": [
      "import css_styling"
     ],
     "language": "python",
     "metadata": {
      "slideshow": {
       "slide_type": "skip"
      }
     },
     "outputs": [
      {
       "html": [
        "<link rel=\"stylesheet\" href=\"http://bootswatch.com/paper/bootstrap.css\">"
       ],
       "metadata": {},
       "output_type": "display_data",
       "text": [
        "<IPython.core.display.HTML at 0x101e70990>"
       ]
      },
      {
       "html": [
        "<style>.rendered_html {    font-size: 130%;}</style>"
       ],
       "metadata": {},
       "output_type": "display_data",
       "text": [
        "<IPython.core.display.HTML at 0x101e70a50>"
       ]
      }
     ],
     "prompt_number": 1
    },
    {
     "cell_type": "markdown",
     "metadata": {
      "slideshow": {
       "slide_type": "slide"
      }
     },
     "source": [
      "<H1 align='left'>Outline</H1><br>\n",
      "\n",
      "  * Why single cells?<br><br>\n",
      "\n",
      "  * Goals of `flotilla`<br><br>\n",
      "\n",
      "  * Test-drive<br><br>\n",
      "  "
     ]
    },
    {
     "cell_type": "markdown",
     "metadata": {
      "slideshow": {
       "slide_type": "slide"
      }
     },
     "source": [
      "<H1 align='left'>Single-cell Transcriptomes </H1>\n",
      "<H2 align='center'>Why you should care.</H2><br>"
     ]
    },
    {
     "cell_type": "markdown",
     "metadata": {
      "slideshow": {
       "slide_type": "subslide"
      }
     },
     "source": [
      "  * Single cell transcriptomics stand to change the way biologists look at heterogeneity in gene expression and the types of questions they will want to ask.<br><br>\n",
      "  \n",
      "    * How is gene expression varied and how does gene expression co-vary?<br><br>\n",
      "    \n",
      "    * Are there cell sub-populations?<br><br>\n",
      "    \n",
      "    * What genes create the largest diffence between two groups of cells?<br><br>\n"
     ]
    },
    {
     "cell_type": "markdown",
     "metadata": {
      "slideshow": {
       "slide_type": "subslide"
      }
     },
     "source": [
      "  * As computation and large-scale biology becomes more demanded, more than ever bioinformaticians will be called on to interpret and describe to the data that biologists create.<br><br>\n",
      "\n",
      "  * With this increased demand for bioinformaticians' time, there must be reliable and scalable solutions for processing and sharing data, analysis and methods."
     ]
    },
    {
     "cell_type": "markdown",
     "metadata": {
      "slideshow": {
       "slide_type": "slide"
      }
     },
     "source": [
      "<H1 align='left'>Goals of `flotilla`</H1>\n",
      "\n",
      "<H2 align='center'>Data-driven conversations about _biology_</H2>"
     ]
    },
    {
     "cell_type": "markdown",
     "metadata": {
      "slideshow": {
       "slide_type": "fragment"
      }
     },
     "source": [
      "  * Interactive data exploration.<br><br>\n",
      "  * Reduce the time from idea to answers. <br><br>\n",
      "  * \"Let biologists do biology.\"<br><br>\n",
      "  * Reproducibility.<br><br>\n",
      "  * Transparency.<br><br>\n",
      "  * Fight data senescence (genomics data have long-term value).<br><br>\n",
      "  * Community-driven standard"
     ]
    },
    {
     "cell_type": "markdown",
     "metadata": {
      "slideshow": {
       "slide_type": "slide"
      }
     },
     "source": [
      "<H1 align='left'>Applications of `flotilla`</H1><br>\n",
      "<H2 align='center'>Why is `flotilla` useful for bioinformatics experts?</H2>"
     ]
    },
    {
     "cell_type": "markdown",
     "metadata": {
      "slideshow": {
       "slide_type": "fragment"
      }
     },
     "source": [
      "  * Live-coding in meetings and presentations.<br><br>\n",
      "  \n",
      "  * Data sharing.<br><br>\n",
      "  \n",
      "  * Replication in multiple computation environments."
     ]
    },
    {
     "cell_type": "markdown",
     "metadata": {},
     "source": [
      "##Data Model\n",
      "\n",
      "Object-oriented design makes adding new featues across mulitple datatypes easy.\n",
      "\n",
      "<img src=\"img/inheritance.png\" />\n"
     ]
    },
    {
     "cell_type": "heading",
     "level": 1,
     "metadata": {
      "slideshow": {
       "slide_type": "slide"
      }
     },
     "source": [
      "<H1 align='left'>How to get `flotilla`</H1>\n",
      "<br>\n",
      "There are several routes to obtaining `flotilla`.\n",
      "<br>\n",
      "<br>\n",
      "Depending on your interests pursue the following:"
     ]
    },
    {
     "cell_type": "markdown",
     "metadata": {
      "slideshow": {
       "slide_type": "subslide"
      }
     },
     "source": [
      "###Docker Hub\n",
      "<img src='img/docker_logo.png' align='left' width=220> \n",
      "<br>\n",
      "<br>\n",
      "<br>\n",
      "<br>\n",
      "The `docker` Virtual Machine is re-built on <a href=\"http://hub.docker.com\">Docker Hub</a> with every change to `flotilla`. Start a container with `flotilla` installed and an iPython notebook running with:\n",
      "<br>\n",
      "<code><font color=\"000000\">\n",
      "    sudo docker run -v ${HOME}/flotilla_projects:/root/flotilla_projects \\\n",
      "                    -v ${HOME}/flotilla_notebooks:/root/home/ipython \\\n",
      "                    -it -P -p 8888 \\\n",
      "                    mlovci/flotilla:dev # ( or mlovci/flotilla:latest )\n",
      "</font></code>\n",
      "<br>\n",
      "Where `-v` mounts host directories in the VM for read/write.\n",
      "<br>\n",
      "<br>\n",
      "\n",
      "There is also a web-start tool for Mac OS X users that have already [installed docker](https://docs.docker.com/installation/#installation):<br><br>\n",
      "<code><font color=\"000000\">\n",
      "    curl https://raw.githubusercontent.com/\\\n",
      "         YeoLab/flotilla/dev/docker/start_docker.py |python\n",
      "</font></code>\n",
      "\n",
      "\n",
      " "
     ]
    },
    {
     "cell_type": "markdown",
     "metadata": {
      "slideshow": {
       "slide_type": "subslide"
      }
     },
     "source": [
      "###PyPI\n",
      "\n",
      "<img src='img/python-logo.png' align='left' width=200> <br>\n",
      "<br>\n",
      "<br>\n",
      "<br>\n",
      "\n",
      "PyPI is updated with every versioned release of `flotilla`\n",
      "\n",
      "\n",
      "<code><font color=\"000000\">\n",
      "    pip install flotilla\n",
      "</code></font>"
     ]
    },
    {
     "cell_type": "markdown",
     "metadata": {
      "slideshow": {
       "slide_type": "subslide"
      }
     },
     "source": [
      "###GitHub\n",
      "<br>\n",
      "<img src='img/labtocat.png' align='left' width=150> \n",
      "<br>\n",
      "<br>\n",
      "<br>\n",
      "<br>\n",
      "<br>\n",
      "<br>\n",
      "<br>\n",
      "<br>\n",
      "<br>\n",
      "<br>\n",
      "\n",
      "New features are available here, community interaction (request new features, watch our progress), report bugs (of course there are none), contribute new features, browse code.\n",
      "<br>\n",
      "<br>\n",
      "<code><font color=\"000000\">\n",
      "    git clone https://github.com/YeoLab/flotilla.git\n",
      "    cd flotilla\n",
      "    pip install .\n",
      "</font></code>"
     ]
    },
    {
     "cell_type": "markdown",
     "metadata": {
      "slideshow": {
       "slide_type": "slide"
      }
     },
     "source": [
      "Now, proceed to the [examples](examples/) for demonstrations.\n",
      "\n",
      "    ** github.com/YeoLab/pag2015_demo **\n",
      "\n",
      " 1. [Create A New Study](examples/1_Create%20A%20New%20Study.ipynb)\n",
      " \n",
      " 3. [Dimensionality Reduction](examples/2_Dimensionality%20Reduction.ipynb)\n",
      "\n",
      " 3. [Classification/Feature Selection](examples/3_Classification.ipynb)\n",
      "\n",
      " 4. [Perform Outlier Detection](examples/4_Outlier%20Detection.ipynb)\n",
      " \n",
      " 5. [Visualize Networks of Samples or Features](examples/5_Interactive%20Covariance%20Network.ipynb)\n",
      " "
     ]
    },
    {
     "cell_type": "code",
     "collapsed": false,
     "input": [],
     "language": "python",
     "metadata": {},
     "outputs": []
    }
   ],
   "metadata": {}
  }
 ]
}